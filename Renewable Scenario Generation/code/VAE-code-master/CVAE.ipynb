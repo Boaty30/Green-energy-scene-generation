{
 "cells": [
  {
   "cell_type": "markdown",
   "metadata": {
    "toc": true
   },
   "source": [
    "<h1>Table of Contents<span class=\"tocSkip\"></span></h1>\n",
    "<div class=\"toc\" style=\"margin-top: 1em;\"><ul class=\"toc-item\"><li><span><a href=\"#构建条件变分编码器\" data-toc-modified-id=\"构建条件变分编码器-1\"><span class=\"toc-item-num\">1&nbsp;&nbsp;</span>构建条件变分编码器</a></span></li><li><span><a href=\"#转换one-hot编码\" data-toc-modified-id=\"转换one-hot编码-2\"><span class=\"toc-item-num\">2&nbsp;&nbsp;</span>转换one-hot编码</a></span></li><li><span><a href=\"#训练网络\" data-toc-modified-id=\"训练网络-3\"><span class=\"toc-item-num\">3&nbsp;&nbsp;</span>训练网络</a></span></li><li><span><a href=\"#绘制网络结构\" data-toc-modified-id=\"绘制网络结构-4\"><span class=\"toc-item-num\">4&nbsp;&nbsp;</span>绘制网络结构</a></span></li><li><span><a href=\"#提取解码器部分作为生成模型\" data-toc-modified-id=\"提取解码器部分作为生成模型-5\"><span class=\"toc-item-num\">5&nbsp;&nbsp;</span>提取解码器部分作为生成模型</a></span></li></ul></div>"
   ]
  },
  {
   "cell_type": "markdown",
   "metadata": {},
   "source": [
    "# 构建条件变分编码器"
   ]
  },
  {
   "cell_type": "code",
   "execution_count": null,
   "metadata": {},
   "outputs": [],
   "source": [
    "import numpy as np\n",
    "import matplotlib.pyplot as plt\n",
    "from scipy.stats import norm\n",
    "\n",
    "from keras.layers import Input, Dense, Lambda, Layer, concatenate\n",
    "from keras.models import Model\n",
    "from keras import backend as K\n",
    "from keras import metrics\n",
    "from keras.datasets import mnist\n",
    "\n",
    "import tensorflow as tf\n",
    "from keras.backend.tensorflow_backend import set_session\n",
    "config = tf.ConfigProto()\n",
    "config.gpu_options.per_process_gpu_memory_fraction = 0.5\n",
    "set_session(tf.Session(config=config))\n",
    "\n",
    "batch_size = 32  #批处理个数\n",
    "original_dim = 576  #输入维度\n",
    "latent_dim = 10  #修改隐向量的维度\n",
    "intermediate_dim = 256  #全连接层神经元个数\n",
    "epochs = 50\n",
    "epsilon_std = 1.0\n",
    "\n",
    "x = Input(shape=(original_dim, ))\n",
    "label = Input(shape=(5, ))\n",
    "inputs = concatenate([x, label])\n",
    "new_layer = Dense(intermediate_dim, activation='relu')(inputs)\n",
    "h = Dense(128, activation='relu')(new_layer)\n",
    "z_mean = Dense(latent_dim)(h)\n",
    "z_log_var = Dense(latent_dim)(h)\n",
    "\n",
    "\n",
    "def sampling(args):\n",
    "    z_mean, z_log_var = args\n",
    "    epsilon = K.random_normal(\n",
    "        shape=(K.shape(z_mean)[0], latent_dim), mean=0., stddev=epsilon_std)\n",
    "    return z_mean + K.exp(z_log_var / 2) * epsilon\n",
    "\n",
    "\n",
    "# note that \"output_shape\" isn't necessary with the TensorFlow backend\n",
    "z = Lambda(sampling, output_shape=(latent_dim, ))([z_mean, z_log_var])\n",
    "\n",
    "# we instantiate these layers separately so as to reuse them later\n",
    "z_input = concatenate([z, label])\n",
    "decoder_h = Dense(intermediate_dim, activation='relu')\n",
    "decoded_p = Dense(128, activation='relu')\n",
    "decoder_mean = Dense(original_dim, activation='sigmoid')\n",
    "\n",
    "h_decoded = decoder_h(z_input)\n",
    "p_decoded = decoded_p(h_decoded)\n",
    "x_decoded_mean = decoder_mean(p_decoded)\n",
    "\n",
    "\n",
    "# Custom loss layer\n",
    "class CustomVariationalLayer(Layer):\n",
    "    def __init__(self, **kwargs):\n",
    "        self.is_placeholder = True\n",
    "        super(CustomVariationalLayer, self).__init__(**kwargs)\n",
    "\n",
    "    def vae_loss(self, x, x_decoded_mean):\n",
    "        xent_loss = original_dim * metrics.binary_crossentropy(\n",
    "            x, x_decoded_mean)\n",
    "        kl_loss = -0.5 * K.sum(\n",
    "            1 + z_log_var - K.square(z_mean) - K.exp(z_log_var), axis=-1)\n",
    "        return K.mean(xent_loss + kl_loss)\n",
    "\n",
    "    def call(self, inputs):\n",
    "        x = inputs[0]\n",
    "        x_decoded_mean = inputs[1]\n",
    "        loss = self.vae_loss(x, x_decoded_mean)\n",
    "        self.add_loss(loss, inputs=inputs)\n",
    "        # We won't actually use the output.\n",
    "        return x\n",
    "\n",
    "\n",
    "y = CustomVariationalLayer()([x, x_decoded_mean])\n",
    "vae = Model([x, label], y)\n",
    "vae.compile(optimizer='adam', loss=None)"
   ]
  },
  {
   "cell_type": "markdown",
   "metadata": {},
   "source": [
    "# 转换one-hot编码"
   ]
  },
  {
   "cell_type": "code",
   "execution_count": null,
   "metadata": {},
   "outputs": [],
   "source": [
    "x_label = np_utils.to_categorical(x_label,num_classes=5)"
   ]
  },
  {
   "cell_type": "markdown",
   "metadata": {},
   "source": [
    "# 训练网络"
   ]
  },
  {
   "cell_type": "code",
   "execution_count": null,
   "metadata": {},
   "outputs": [],
   "source": [
    "vae.fit(x=[x_train,x_label],\n",
    "        shuffle=True,\n",
    "        epochs=200,\n",
    "        batch_size=batch_size)"
   ]
  },
  {
   "cell_type": "markdown",
   "metadata": {},
   "source": [
    "# 绘制网络结构"
   ]
  },
  {
   "cell_type": "code",
   "execution_count": null,
   "metadata": {},
   "outputs": [],
   "source": [
    "from keras.utils import plot_model\n",
    "from keras.utils.vis_utils import model_to_dot\n",
    "from IPython.display import SVG\n",
    "\n",
    "plot_model(vae, show_layer_names=False,show_shapes=True,to_file='CVAE-model.tif')\n",
    "SVG(model_to_dot(vae,show_layer_names=False,show_shapes=True).create(prog='dot', format='svg'))"
   ]
  },
  {
   "cell_type": "markdown",
   "metadata": {},
   "source": [
    "# 提取解码器部分作为生成模型"
   ]
  },
  {
   "cell_type": "code",
   "execution_count": null,
   "metadata": {},
   "outputs": [],
   "source": [
    "decoder_input = Input(shape=(latent_dim,))\n",
    "\n",
    "\n",
    "label_input=Input(shape=(5,))\n",
    "merge_label=concatenate([decoder_input,label_input])\n",
    "_h_decoded = decoder_h(merge_label)\n",
    "_p_decoded = decoded_p(_h_decoded)\n",
    "_x_decoded_mean = decoder_mean(_p_decoded)\n",
    "generator = Model([decoder_input,label_input], _x_decoded_mean)"
   ]
  }
 ],
 "metadata": {
  "kernelspec": {
   "display_name": "Python 3",
   "language": "python",
   "name": "python3"
  },
  "language_info": {
   "codemirror_mode": {
    "name": "ipython",
    "version": 3
   },
   "file_extension": ".py",
   "mimetype": "text/x-python",
   "name": "python",
   "nbconvert_exporter": "python",
   "pygments_lexer": "ipython3",
   "version": "3.6.1"
  },
  "toc": {
   "nav_menu": {},
   "number_sections": true,
   "sideBar": true,
   "skip_h1_title": false,
   "toc_cell": true,
   "toc_position": {},
   "toc_section_display": "block",
   "toc_window_display": true
  },
  "varInspector": {
   "cols": {
    "lenName": 16,
    "lenType": 16,
    "lenVar": 40
   },
   "kernels_config": {
    "python": {
     "delete_cmd_postfix": "",
     "delete_cmd_prefix": "del ",
     "library": "var_list.py",
     "varRefreshCmd": "print(var_dic_list())"
    },
    "r": {
     "delete_cmd_postfix": ") ",
     "delete_cmd_prefix": "rm(",
     "library": "var_list.r",
     "varRefreshCmd": "cat(var_dic_list()) "
    }
   },
   "types_to_exclude": [
    "module",
    "function",
    "builtin_function_or_method",
    "instance",
    "_Feature"
   ],
   "window_display": false
  }
 },
 "nbformat": 4,
 "nbformat_minor": 2
}
